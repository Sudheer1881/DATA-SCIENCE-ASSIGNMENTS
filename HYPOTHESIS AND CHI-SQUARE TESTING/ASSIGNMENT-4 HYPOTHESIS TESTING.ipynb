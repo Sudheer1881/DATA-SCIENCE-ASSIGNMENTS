{
 "cells": [
  {
   "cell_type": "markdown",
   "id": "fddf3f0f-88c0-46cc-88f7-4908cef6cc83",
   "metadata": {},
   "source": [
    "# HYPOTHESIS TESTING\n",
    "To investigate the restaurant owners' claim about the increase in weekly operating costs using hypothesis testing."
   ]
  },
  {
   "cell_type": "markdown",
   "id": "49e03237-1d72-46e7-8773-18faf4f31cbb",
   "metadata": {},
   "source": [
    "## Data Provided:\r\n",
    "•\tThe theoretical weekly operating cost model: W = $1,000 + $5X\r\n",
    "•\tSample of 25 restaurants with a mean weekly cost of Rs. 3,050\r\n",
    "•\tNumber of units produced in a week (X) follows a normal distribution with a mean (μ) of 600 units and a standard deviation (σ) of 25 units\r\n"
   ]
  },
  {
   "cell_type": "markdown",
   "id": "d450526c-c223-42b9-8204-b106cc5d7ede",
   "metadata": {},
   "source": [
    "##  Task-1: State the Hypotheses statement:"
   ]
  },
  {
   "cell_type": "markdown",
   "id": "f32b00fd-07d7-4e2b-b80c-29f7a688325d",
   "metadata": {},
   "source": [
    "\n",
    "Null hypothses (H0):The operating cost for a franchise in a week is not changed and remained same as  $1,000 + $5X\n"
   ]
  },
  {
   "cell_type": "markdown",
   "id": "25c097c9-2496-48e9-9295-aac1bf3d1d88",
   "metadata": {},
   "source": [
    "\n",
    "Alternate hypothses (H1): The operating cost for a franchise in a week is changed as greater than $1,000 + $5X\n",
    "\n"
   ]
  },
  {
   "cell_type": "markdown",
   "id": "bade4c3a-5d42-45b3-8414-c21c9bd21e47",
   "metadata": {},
   "source": [
    "\n",
    "therefore, given x = 600\n",
    "so,"
   ]
  },
  {
   "cell_type": "markdown",
   "id": "1305b675-e2a1-4159-ae1e-adcdef12a169",
   "metadata": {},
   "source": [
    "\n",
    "   H0: mu=4000\n",
    "   H1: mu>4000"
   ]
  },
  {
   "cell_type": "markdown",
   "id": "0915f2e2-08ba-4682-9420-604b3811730d",
   "metadata": {},
   "source": [
    "## Task-2:Calculate the Test Statistic :\n",
    "HERE DATA WE HAVE TO DETERMINE THE MEAN SO,T-TEST IS USED"
   ]
  },
  {
   "cell_type": "raw",
   "id": "755f635f-67a3-45b3-8899-3020c6fb0416",
   "metadata": {},
   "source": [
    "Calculate the Test Statistic:\n",
    "Use the following formula to calculate the test statistic (t):\n",
    "where:\n",
    "•\tˉxˉ = sample mean weekly cost (Rs. 3,050)\n",
    "•\tμ = theoretical mean weekly cost according to the cost model (W = $1,000 + $5X for X = 600 units)\n",
    "•\tσ = 5*25 units\n",
    "•\tn = sample size (25 restaurants)\n"
   ]
  },
  {
   "cell_type": "code",
   "execution_count": 23,
   "id": "273c91d4-d15b-488a-be8f-0ff3ae8d82ba",
   "metadata": {},
   "outputs": [],
   "source": [
    "sample_mean=3050\n",
    "theoretical_mean=4000\n",
    "std=125\n",
    "n=25"
   ]
  },
  {
   "cell_type": "code",
   "execution_count": 25,
   "id": "dda0a98f-57cc-4764-bb1c-db7a1b98dd13",
   "metadata": {},
   "outputs": [
    {
     "name": "stdout",
     "output_type": "stream",
     "text": [
      "CALCULATED TEST STATISTICS: -38.0\n"
     ]
    }
   ],
   "source": [
    "import numpy as np\n",
    "test_statistics=(sample_mean-theoretical_mean)/(std/np.sqrt(n))\n",
    "print('CALCULATED TEST STATISTICS:',test_statistics)"
   ]
  },
  {
   "cell_type": "markdown",
   "id": "68c3d6ff-cf36-469c-9efb-39ae3da5f238",
   "metadata": {},
   "source": [
    "## Task-3:Determine the Critical Value:\n",
    "Using the alpha level of 5% (α = 0.05), determine the critical value from the standard normal (Z) distribution table."
   ]
  },
  {
   "cell_type": "code",
   "execution_count": 18,
   "id": "7c396df6-acbc-4141-88d1-0ab270fb89f7",
   "metadata": {},
   "outputs": [
    {
     "name": "stdout",
     "output_type": "stream",
     "text": [
      "THE CRITICAL VALUE OF 5% FROM Z-TABLE FOR 0.95  IS: 1.645\n"
     ]
    }
   ],
   "source": [
    "#as it is one tail testing\n",
    "alpha=0.05\n",
    "z=1-alpha\n",
    "critical_value=1.645               #this value came from z-table at 0.95\n",
    "print('THE CRITICAL VALUE OF 5% FROM Z-TABLE FOR',z,' IS:', critical_value)"
   ]
  },
  {
   "cell_type": "markdown",
   "id": "734be23e-fb1d-4e05-a613-fa0639f50c88",
   "metadata": {},
   "source": [
    "## Task-4:Make a Decision:\r\n",
    "Compare the test statistic with the critical value to decide whether to reject the null hypothesis.\r\n"
   ]
  },
  {
   "cell_type": "code",
   "execution_count": 34,
   "id": "b6188053-9274-48f3-a593-0278bb47b418",
   "metadata": {},
   "outputs": [
    {
     "name": "stdout",
     "output_type": "stream",
     "text": [
      "REJECT H0 AND ACCEPT H1\n",
      "The operating cost for a franchise in a week is changed as greater than  $1,000 + $5X for x=600\n"
     ]
    }
   ],
   "source": [
    "#as comparision between test statistics and critical value can be determined as:\n",
    "#if test statistics < critical value, then reject H0\n",
    "if test_statistics<critical_value:\n",
    "    print('REJECT H0 AND ACCEPT H1')\n",
    "    print('The operating cost for a franchise in a week is changed as greater than  $1,000 + $5X for x=600')\n",
    "else:\n",
    "    print('ACCEPT H0 AND REJECT H1')\n",
    "    print('The operating cost for a franchise in a week is not changed and remained same as  $1,000 + $5X for x=600')"
   ]
  },
  {
   "cell_type": "markdown",
   "id": "cb27b004-67e8-4549-9c81-ad06eb7f0035",
   "metadata": {},
   "source": [
    "## 5. Conclusion:\r\n",
    "Based on the decision in step 4, conclude whether there is strong evidence to support the restaurant owners' claim that the weekly operating costs are higher than the model suggests.\r\n"
   ]
  },
  {
   "cell_type": "markdown",
   "id": "fb64a6a7-fbd3-42d5-ada9-41211eee1315",
   "metadata": {},
   "source": [
    "BASED ON THE STEP 4, THE TEST STATISTICS IS LESS THE CRITICAL VALUE, SO REJECT H0\n",
    "THAT MEANS, THERE IS STRONG EVIDENCE TO SUPPORT THE REASTAURANT OWNER'S CLAIM THAT THE WEEKLY OPERATING COSTS ARE HIGHER THAN THE MODEL SUGGESTS"
   ]
  },
  {
   "cell_type": "code",
   "execution_count": null,
   "id": "f810a1a4-67f4-4379-8ae9-8a19b077962c",
   "metadata": {},
   "outputs": [],
   "source": []
  }
 ],
 "metadata": {
  "kernelspec": {
   "display_name": "Python 3 (ipykernel)",
   "language": "python",
   "name": "python3"
  },
  "language_info": {
   "codemirror_mode": {
    "name": "ipython",
    "version": 3
   },
   "file_extension": ".py",
   "mimetype": "text/x-python",
   "name": "python",
   "nbconvert_exporter": "python",
   "pygments_lexer": "ipython3",
   "version": "3.12.4"
  }
 },
 "nbformat": 4,
 "nbformat_minor": 5
}
