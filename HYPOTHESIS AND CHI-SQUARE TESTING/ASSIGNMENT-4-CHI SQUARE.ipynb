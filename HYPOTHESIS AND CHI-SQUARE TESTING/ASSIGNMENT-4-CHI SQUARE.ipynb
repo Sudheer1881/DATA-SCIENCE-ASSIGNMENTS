{
 "cells": [
  {
   "cell_type": "markdown",
   "id": "5aa7ac24-6dd6-43e9-9a3f-d1f8fede7298",
   "metadata": {},
   "source": [
    "# CHI-SQUARE TEST\n",
    "Background:\r\n",
    "Mizzare Corporation has collected data on customer satisfaction levels for two types of smart home devices: Smart Thermostats and Smart Lights. They want to determine if there's a significant association between the type of device purchased and the customer's satisfaction level.\r\n"
   ]
  },
  {
   "cell_type": "raw",
   "id": "da488ba6-244b-4f1d-856a-a3965362569c",
   "metadata": {},
   "source": [
    "Data Provided:\n",
    "The data is summarized in a contingency table showing the counts of customers in each satisfaction level for both types of devices:\n",
    "\n",
    "Satisfaction\tSmart Thermostat\tSmart Light  \tTotal\n",
    "Very Satisfied\t      50\t             70     \t120\n",
    "Satisfied\t          80\t             100\t    180\n",
    "Neutral            \t  60\t             90\t        150\n",
    "Unsatisfied\t          30\t             50\t        80\n",
    "Very Unsatisfied\t  20\t             50\t        70\n",
    "Total\t              240\t             360\t    600\n"
   ]
  },
  {
   "cell_type": "code",
   "execution_count": 68,
   "id": "346c06d9-dad9-43eb-ac62-d95f015a2c0a",
   "metadata": {},
   "outputs": [
    {
     "data": {
      "text/html": [
       "<div>\n",
       "<style scoped>\n",
       "    .dataframe tbody tr th:only-of-type {\n",
       "        vertical-align: middle;\n",
       "    }\n",
       "\n",
       "    .dataframe tbody tr th {\n",
       "        vertical-align: top;\n",
       "    }\n",
       "\n",
       "    .dataframe thead th {\n",
       "        text-align: right;\n",
       "    }\n",
       "</style>\n",
       "<table border=\"1\" class=\"dataframe\">\n",
       "  <thead>\n",
       "    <tr style=\"text-align: right;\">\n",
       "      <th></th>\n",
       "      <th>SMART THERMOSTAT</th>\n",
       "      <th>SMART LIGHT</th>\n",
       "    </tr>\n",
       "  </thead>\n",
       "  <tbody>\n",
       "    <tr>\n",
       "      <th>VERT STATISFIED</th>\n",
       "      <td>50</td>\n",
       "      <td>70</td>\n",
       "    </tr>\n",
       "    <tr>\n",
       "      <th>SATISFIED</th>\n",
       "      <td>80</td>\n",
       "      <td>100</td>\n",
       "    </tr>\n",
       "    <tr>\n",
       "      <th>NEUTRAL</th>\n",
       "      <td>60</td>\n",
       "      <td>90</td>\n",
       "    </tr>\n",
       "    <tr>\n",
       "      <th>UNSATISFIED</th>\n",
       "      <td>30</td>\n",
       "      <td>50</td>\n",
       "    </tr>\n",
       "    <tr>\n",
       "      <th>VERT UNSTATISFIED</th>\n",
       "      <td>20</td>\n",
       "      <td>50</td>\n",
       "    </tr>\n",
       "  </tbody>\n",
       "</table>\n",
       "</div>"
      ],
      "text/plain": [
       "                   SMART THERMOSTAT  SMART LIGHT\n",
       "VERT STATISFIED                  50           70\n",
       "SATISFIED                        80          100\n",
       "NEUTRAL                          60           90\n",
       "UNSATISFIED                      30           50\n",
       "VERT UNSTATISFIED                20           50"
      ]
     },
     "execution_count": 68,
     "metadata": {},
     "output_type": "execute_result"
    }
   ],
   "source": [
    "import pandas as pan\n",
    "given_data=[50,70],[80,100],[60,90],[30,50],[20,50]\n",
    "data=pan.DataFrame(given_data,columns=['SMART THERMOSTAT','SMART LIGHT'],index=['VERT STATISFIED','SATISFIED','NEUTRAL','UNSATISFIED','VERT UNSTATISFIED'])\n",
    "data"
   ]
  },
  {
   "cell_type": "raw",
   "id": "34dd4eb2-1dfc-43a4-919d-78d85182693e",
   "metadata": {},
   "source": [
    "Objective:\n",
    "To use the Chi-Square test for independence to determine if there's a significant association between the type of smart home device purchased (Smart Thermostats vs. Smart Lights) and the customer satisfaction level."
   ]
  },
  {
   "cell_type": "markdown",
   "id": "78a14c10-61b9-4938-a78f-7df3ba261c26",
   "metadata": {},
   "source": [
    "## Task-1: State the Hypotheses::"
   ]
  },
  {
   "cell_type": "markdown",
   "id": "19c02cff-26a6-4b15-893f-15063b149643",
   "metadata": {},
   "source": [
    "NULL HYPOTHESIS:\n"
   ]
  },
  {
   "cell_type": "markdown",
   "id": "99ecb067-2987-4e7a-9068-c5a3a51bb4a6",
   "metadata": {},
   "source": [
    "H0:there's no significant association between the type of smart home device purchased (Smart Thermostats vs. Smart Lights) and the customer             satisfaction level. \n",
    ".com"
   ]
  },
  {
   "cell_type": "markdown",
   "id": "19cce13a-3154-47c9-a9d2-b59b70354423",
   "metadata": {},
   "source": [
    " \n",
    "ALTERNATE HYPOTHESIS:\n"
   ]
  },
  {
   "cell_type": "markdown",
   "id": "dc9c6b24-ed51-42cd-9992-72bb0650bee3",
   "metadata": {},
   "source": [
    "\n",
    "H1:there's a significant association between the type of smart home device purchased (Smart Thermostats vs. Smart Lights) and the customer satisfaction level."
   ]
  },
  {
   "cell_type": "markdown",
   "id": "7c9e23b8-def9-4237-a44d-5cedd9118975",
   "metadata": {},
   "source": [
    "## Task-2:Compute the Chi-Square Statistic:"
   ]
  },
  {
   "cell_type": "code",
   "execution_count": 41,
   "id": "18a00118-57b5-4949-be0c-aa1ede8a35b1",
   "metadata": {},
   "outputs": [
    {
     "name": "stdout",
     "output_type": "stream",
     "text": [
      "CHI_SQUARE_STATISTICS: 5.638227513227513\n",
      "P_VALUE: 0.22784371130697179\n",
      "DEGREE_OF_FREEDOM: 4\n",
      "EXPECTED_FREQUENCY:\n",
      "[[ 48.  72.]\n",
      " [ 72. 108.]\n",
      " [ 60.  90.]\n",
      " [ 32.  48.]\n",
      " [ 28.  42.]]\n"
     ]
    }
   ],
   "source": [
    "from scipy.stats import chi2_contingency\n",
    "chi=chi2_contingency(data[:])\n",
    "statistic,pvalue,dof,expected_freq=chi\n",
    "print(f'CHI_SQUARE_STATISTICS: {statistic}')\n",
    "print(f'P_VALUE: {pvalue}')\n",
    "print(f'DEGREE_OF_FREEDOM: {dof}')\n",
    "print(f'EXPECTED_FREQUENCY:\\n{expected_freq}')"
   ]
  },
  {
   "cell_type": "markdown",
   "id": "02db6ea4-7089-4f10-9076-33c5ca9aeaaa",
   "metadata": {},
   "source": [
    "## Task-3: Determine the Critical Value:\r\n",
    "Using the significance level (alpha) of 0.05 and the degrees of freedom (which is the number of categories minus 1)\r\n"
   ]
  },
  {
   "cell_type": "markdown",
   "id": "687524af-05a4-4849-b7d0-d22b314f9450",
   "metadata": {},
   "source": [
    "The critical value for a Chi-Square test with 4 degrees of freedom and a significance level of 0.05 is approximately 9.488."
   ]
  },
  {
   "cell_type": "code",
   "execution_count": 57,
   "id": "6eeb1d00-f999-4500-8838-6c2945be5a7b",
   "metadata": {},
   "outputs": [
    {
     "name": "stdout",
     "output_type": "stream",
     "text": [
      "CRITICAL_VALUE: 9.487729036781154\n"
     ]
    }
   ],
   "source": [
    "from scipy.stats import chi2\n",
    "alpha=0.05\n",
    "critical_value=chi2.ppf(1-alpha,dof)\n",
    "print('CRITICAL_VALUE:',critical_value)"
   ]
  },
  {
   "cell_type": "markdown",
   "id": "c4f2a5c9-dbce-42ca-b5a3-5bb16a0ed2ba",
   "metadata": {},
   "source": [
    "## Task-4:Make a Decision:"
   ]
  },
  {
   "cell_type": "code",
   "execution_count": 65,
   "id": "7607fd9b-8a48-4271-8958-cdeaeac44ea3",
   "metadata": {},
   "outputs": [
    {
     "name": "stdout",
     "output_type": "stream",
     "text": [
      "ACCEPT H0\n",
      "there is no significant association between the type of smart home device purchased (Smart Thermostats vs. Smart Lights) and the customer  satisfaction level. \n"
     ]
    }
   ],
   "source": [
    "if statistic>critical_value:\n",
    "    print('REJECT H0')\n",
    "    print('there is a significant association between the type of smart home device purchased (Smart Thermostats vs. Smart Lights) and the customer satisfaction level')\n",
    "else:\n",
    "    print('ACCEPT H0')\n",
    "    print('there is no significant association between the type of smart home device purchased (Smart Thermostats vs. Smart Lights) and the customer  satisfaction level. ')"
   ]
  },
  {
   "cell_type": "markdown",
   "id": "a02616d1-79fd-4749-b77a-bd9907b30a79",
   "metadata": {},
   "source": [
    "## CONCLUSION:"
   ]
  },
  {
   "cell_type": "markdown",
   "id": "ad2c4258-0563-4a30-a134-a90fc0a882d7",
   "metadata": {},
   "source": [
    "there's no significant association between the type of smart home device purchased (Smart Thermostats vs. Smart Lights) and the customer satisfaction level. "
   ]
  },
  {
   "cell_type": "code",
   "execution_count": null,
   "id": "831ff7db-3d4d-4488-9d98-70d20d8b6054",
   "metadata": {},
   "outputs": [],
   "source": []
  }
 ],
 "metadata": {
  "kernelspec": {
   "display_name": "Python 3 (ipykernel)",
   "language": "python",
   "name": "python3"
  },
  "language_info": {
   "codemirror_mode": {
    "name": "ipython",
    "version": 3
   },
   "file_extension": ".py",
   "mimetype": "text/x-python",
   "name": "python",
   "nbconvert_exporter": "python",
   "pygments_lexer": "ipython3",
   "version": "3.12.4"
  }
 },
 "nbformat": 4,
 "nbformat_minor": 5
}
