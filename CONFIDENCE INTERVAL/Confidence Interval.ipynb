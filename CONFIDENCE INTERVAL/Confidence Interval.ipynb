{
 "cells": [
  {
   "cell_type": "markdown",
   "id": "b922b0b3-694c-4726-babf-a4fe41531cfb",
   "metadata": {},
   "source": [
    "## IMPORTING LIBRARIES"
   ]
  },
  {
   "cell_type": "code",
   "execution_count": 23,
   "id": "731f3a16-5137-4c05-b0a2-c550af825d15",
   "metadata": {},
   "outputs": [],
   "source": [
    "import numpy as nm\n",
    "from scipy import stats"
   ]
  },
  {
   "cell_type": "markdown",
   "id": "53740b47-3854-4150-8ec8-b41e6a4d8bc1",
   "metadata": {},
   "source": [
    "## READING GIVEN DATA"
   ]
  },
  {
   "cell_type": "code",
   "execution_count": 68,
   "id": "61273716-54b1-4577-9b89-e8af013348c9",
   "metadata": {},
   "outputs": [
    {
     "data": {
      "text/plain": [
       "[1.13,\n",
       " 1.55,\n",
       " 1.43,\n",
       " 0.92,\n",
       " 1.25,\n",
       " 1.36,\n",
       " 1.32,\n",
       " 0.85,\n",
       " 1.07,\n",
       " 1.48,\n",
       " 1.2,\n",
       " 1.33,\n",
       " 1.18,\n",
       " 1.22,\n",
       " 1.29]"
      ]
     },
     "execution_count": 68,
     "metadata": {},
     "output_type": "execute_result"
    }
   ],
   "source": [
    "data=[1.13, 1.55, 1.43, 0.92, 1.25, 1.36, 1.32, 0.85, 1.07, 1.48, 1.20, 1.33, 1.18, 1.22, 1.29]\n",
    "data"
   ]
  },
  {
   "cell_type": "markdown",
   "id": "cdc89312-96ae-4e20-a04d-a8b547ef3840",
   "metadata": {},
   "source": [
    "# TASK A: Build 99% Confidence Interval Using Sample Standard Deviation"
   ]
  },
  {
   "cell_type": "markdown",
   "id": "56ef4848-7499-4e15-b323-42f2e4b64acf",
   "metadata": {},
   "source": [
    "### METHOD 1:\n",
    "IN THIS METHOD WE DIRECTLY APPLY SYNTAX TO GET THE CONFIDENCE INTERVAL FOR 99% USING SAMPLE STANDARD DEVIATION BY USING T-DISTRIBUTION"
   ]
  },
  {
   "cell_type": "code",
   "execution_count": 82,
   "id": "48ee18f4-c4fd-4079-ae25-dfcd496c8998",
   "metadata": {},
   "outputs": [],
   "source": [
    "confidence_level=0.99  #given confidence level is 99%"
   ]
  },
  {
   "cell_type": "code",
   "execution_count": 84,
   "id": "34c615fa-81f6-46b3-877d-02fa7d283058",
   "metadata": {},
   "outputs": [],
   "source": [
    "sample_mean=nm.mean(data)"
   ]
  },
  {
   "cell_type": "code",
   "execution_count": 86,
   "id": "7261c7f2-83b8-422c-8d34-c938c3376476",
   "metadata": {},
   "outputs": [],
   "source": [
    "data_length=len(data)"
   ]
  },
  {
   "cell_type": "code",
   "execution_count": 88,
   "id": "d09705c1-ff42-4a99-84bb-299fbac4104a",
   "metadata": {},
   "outputs": [],
   "source": [
    "degree_of_freedom=data_length-1"
   ]
  },
  {
   "cell_type": "code",
   "execution_count": null,
   "id": "c349a0c1-4d9f-46da-8592-a109af5e43f3",
   "metadata": {},
   "outputs": [],
   "source": [
    "std=nm.std(data)"
   ]
  },
  {
   "cell_type": "code",
   "execution_count": 90,
   "id": "d9c604f1-ce25-4288-8b47-24941f29358b",
   "metadata": {},
   "outputs": [],
   "source": [
    "s=std/nm.sqrt(data_length)"
   ]
  },
  {
   "cell_type": "code",
   "execution_count": 92,
   "id": "23107af5-94ee-453a-ab7e-8bd61741dd92",
   "metadata": {},
   "outputs": [
    {
     "data": {
      "text/plain": [
       "(1.095231668626123, 1.3821016647072102)"
      ]
     },
     "execution_count": 92,
     "metadata": {},
     "output_type": "execute_result"
    }
   ],
   "source": [
    "stats.t.interval(confidence_level,degree_of_freedom,sample_mean,s)"
   ]
  },
  {
   "cell_type": "markdown",
   "id": "a6703718-591b-479a-82d1-5e1b5a0b195e",
   "metadata": {},
   "source": [
    "### METHOD 2:\n",
    "IN THIS METHOD WE APPLY [MIN,MAX]=[X-Z * STD/SQRT(N),X+Z * STD/SQRT(N)].WHERE 'X'=MEAN,'Z'=PPF VALUE,'STD'=STANDARD DEVIATION,'SQRT(N)'=SQUARE ROOT OF LENGTH OF DATA."
   ]
  },
  {
   "cell_type": "code",
   "execution_count": 131,
   "id": "f4988067-31ea-47cf-ad59-8a1c25c12618",
   "metadata": {},
   "outputs": [],
   "source": [
    "z_value=stats.t.ppf(0.995,14)"
   ]
  },
  {
   "cell_type": "code",
   "execution_count": 149,
   "id": "335638cd-2210-4e63-aa57-dbfca85e4b21",
   "metadata": {},
   "outputs": [],
   "source": [
    "margin_of_error=z_value*s"
   ]
  },
  {
   "cell_type": "code",
   "execution_count": 113,
   "id": "37018fba-8d72-4f30-a50e-4eb3f44e0ade",
   "metadata": {},
   "outputs": [],
   "source": [
    "lower_limit=sample_mean-margin_of_error\n",
    "upper_limit=sample_mean+margin_of_error"
   ]
  },
  {
   "cell_type": "code",
   "execution_count": 157,
   "id": "af063ff0-b3f1-4213-87d6-79e5a064712b",
   "metadata": {},
   "outputs": [
    {
     "name": "stdout",
     "output_type": "stream",
     "text": [
      "LOWER LIMIT: 1.095231668626123 UPPER LIMIT: 1.3821016647072102\n"
     ]
    }
   ],
   "source": [
    "print('LOWER LIMIT:',lower_limit,'UPPER LIMIT:',upper_limit)"
   ]
  },
  {
   "cell_type": "markdown",
   "id": "1a40c726-2616-43c2-b89d-43c529584c2b",
   "metadata": {},
   "source": [
    "# Build 99% Confidence Interval Using Known Population Standard Deviation\n",
    "Known Population Standard Deviation:0.2\n",
    "  AND TYPE OF DISTRIBUTION IS NOT MENTIONED SO WE ARE PERFORMING NORMAL DISTRIBUTION"
   ]
  },
  {
   "cell_type": "markdown",
   "id": "18be49e0-8f3b-4318-9cbf-11118c16a971",
   "metadata": {},
   "source": [
    "### METHOD 1:\n",
    "DIRECT PROCESS"
   ]
  },
  {
   "cell_type": "code",
   "execution_count": 134,
   "id": "957f5564-8b70-4ac5-b0a5-63cd1e72dd12",
   "metadata": {},
   "outputs": [],
   "source": [
    "know_std=0.2"
   ]
  },
  {
   "cell_type": "code",
   "execution_count": 138,
   "id": "74d6ac0c-0c59-42ac-894c-e7631e44e88a",
   "metadata": {},
   "outputs": [],
   "source": [
    "s1=know_std/nm.sqrt(data_length)"
   ]
  },
  {
   "cell_type": "code",
   "execution_count": 142,
   "id": "7b5a264d-1446-47f7-8d35-436c6a50862b",
   "metadata": {},
   "outputs": [
    {
     "data": {
      "text/plain": [
       "(1.1056514133957607, 1.3716819199375725)"
      ]
     },
     "execution_count": 142,
     "metadata": {},
     "output_type": "execute_result"
    }
   ],
   "source": [
    "stats.norm.interval(0.99,sample_mean,s1)"
   ]
  },
  {
   "cell_type": "markdown",
   "id": "f6ac12f9-b2bc-41d3-b28e-574d66b89fcb",
   "metadata": {},
   "source": [
    "### METHOD 2:\n",
    "Z-VALUES METHOD"
   ]
  },
  {
   "cell_type": "code",
   "execution_count": 147,
   "id": "2f47b619-9a16-4846-848e-b88412aa321f",
   "metadata": {},
   "outputs": [],
   "source": [
    "z_value=stats.norm.ppf(0.995)"
   ]
  },
  {
   "cell_type": "code",
   "execution_count": 162,
   "id": "a4315938-c9a7-434a-aa2b-248974b2957f",
   "metadata": {},
   "outputs": [],
   "source": [
    "margin_of_errors=z_value*s1"
   ]
  },
  {
   "cell_type": "code",
   "execution_count": 164,
   "id": "e79a6cfd-2aaa-4fda-ab43-d45e1eca4887",
   "metadata": {},
   "outputs": [],
   "source": [
    "lower_limit1=mean-margin_of_errors\n",
    "upper_limit1=mean+margin_of_errors"
   ]
  },
  {
   "cell_type": "code",
   "execution_count": 166,
   "id": "ae3a494c-74ee-4308-bbcf-1f1fe9201c52",
   "metadata": {},
   "outputs": [
    {
     "name": "stdout",
     "output_type": "stream",
     "text": [
      "LOWER LIMIT: 1.1056514133957607 UPPER LIMIT: 1.3716819199375725\n"
     ]
    }
   ],
   "source": [
    "print('LOWER LIMIT:',lower_limit1,'UPPER LIMIT:',upper_limit1)"
   ]
  }
 ],
 "metadata": {
  "kernelspec": {
   "display_name": "Python 3 (ipykernel)",
   "language": "python",
   "name": "python3"
  },
  "language_info": {
   "codemirror_mode": {
    "name": "ipython",
    "version": 3
   },
   "file_extension": ".py",
   "mimetype": "text/x-python",
   "name": "python",
   "nbconvert_exporter": "python",
   "pygments_lexer": "ipython3",
   "version": "3.12.4"
  }
 },
 "nbformat": 4,
 "nbformat_minor": 5
}
