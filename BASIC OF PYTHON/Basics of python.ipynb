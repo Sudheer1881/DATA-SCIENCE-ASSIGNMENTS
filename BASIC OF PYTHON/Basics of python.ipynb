{
 "cells": [
  {
   "cell_type": "markdown",
   "id": "d7e5970e-3c66-4118-ad66-4810aad32d6f",
   "metadata": {},
   "source": [
    "# Exercise 1: Prime Numbers"
   ]
  },
  {
   "cell_type": "markdown",
   "id": "a9bbc133-2005-442d-9501-6e16b6e6a689",
   "metadata": {},
   "source": [
    "#### Write a Python program that checks whether a given number is prime or not. A prime number is a natural number greater than 1 that has no positive divisors other than 1 and itself."
   ]
  },
  {
   "cell_type": "code",
   "execution_count": 21,
   "id": "c868e0c4-1ef7-4c6d-b286-8a7a3bf07f26",
   "metadata": {},
   "outputs": [
    {
     "name": "stdin",
     "output_type": "stream",
     "text": [
      " 989\n"
     ]
    },
    {
     "name": "stdout",
     "output_type": "stream",
     "text": [
      "989 IS  NOT PRIME NUMBER\n"
     ]
    }
   ],
   "source": [
    "number=int(input())\n",
    "if number>1:\n",
    "    for i in range(2,number-1):\n",
    "        if number%i == 0:\n",
    "            print(f'{number} IS  NOT PRIME NUMBER')\n",
    "            break\n",
    "    else:\n",
    "         print(f'{number} IS PRIME NUMBER')\n",
    "else:\n",
    "    print(f'{number} IS NOT PRIME NUMBER')"
   ]
  },
  {
   "cell_type": "markdown",
   "id": "8825ffac-2bd8-44b1-9819-26404fcceb00",
   "metadata": {},
   "source": [
    "# Exercise 2: Product of Random Numbers"
   ]
  },
  {
   "cell_type": "markdown",
   "id": "0edea9e2-81ff-4d72-acb8-227ef922989e",
   "metadata": {},
   "source": [
    "#### Develop a Python program that generates two random numbers and asks the user to enter the product of these numbers. The program should then check if the user's answer is correct and display an appropriate message."
   ]
  },
  {
   "cell_type": "code",
   "execution_count": 60,
   "id": "417a785f-2945-40b5-83d6-96a2514ae532",
   "metadata": {},
   "outputs": [
    {
     "name": "stdin",
     "output_type": "stream",
     "text": [
      "WHAT IS THE PRODUCT OF 63  AND 53 3339\n"
     ]
    },
    {
     "name": "stdout",
     "output_type": "stream",
     "text": [
      "WELL DONE\n"
     ]
    }
   ],
   "source": [
    "import random as ran\n",
    "number_1=ran.randint(1,100)\n",
    "number_2=ran.randint(1,100)\n",
    "user_input=int(input(f'WHAT IS THE PRODUCT OF {number_1}  AND {number_2}'))\n",
    "if user_input==number_1*number_2:\n",
    "    print('WELL DONE')\n",
    "else:\n",
    "    print('BETTER LUCK NEXT TIME')\n",
    "    "
   ]
  },
  {
   "cell_type": "markdown",
   "id": "5270c7e3-77d2-4a61-b182-d66ef142d046",
   "metadata": {},
   "source": [
    "# Exercise 3: Squares of Even/Odd Numbers"
   ]
  },
  {
   "cell_type": "markdown",
   "id": "ba837e24-8dbe-4b33-81b6-cb3ac5d8c998",
   "metadata": {},
   "source": [
    "#### Create a Python script that prints the squares of all even or odd numbers within the range of 100 to 200. Choose either even or odd numbers and document your choice in the code."
   ]
  },
  {
   "cell_type": "code",
   "execution_count": 35,
   "id": "c4873ae6-81e7-45ce-ae10-650c6605c301",
   "metadata": {},
   "outputs": [
    {
     "name": "stdout",
     "output_type": "stream",
     "text": [
      "SQUARE OF 100 IS: 10000\n",
      "SQUARE OF 102 IS: 10404\n",
      "SQUARE OF 104 IS: 10816\n",
      "SQUARE OF 106 IS: 11236\n",
      "SQUARE OF 108 IS: 11664\n",
      "SQUARE OF 110 IS: 12100\n",
      "SQUARE OF 112 IS: 12544\n",
      "SQUARE OF 114 IS: 12996\n",
      "SQUARE OF 116 IS: 13456\n",
      "SQUARE OF 118 IS: 13924\n",
      "SQUARE OF 120 IS: 14400\n",
      "SQUARE OF 122 IS: 14884\n",
      "SQUARE OF 124 IS: 15376\n",
      "SQUARE OF 126 IS: 15876\n",
      "SQUARE OF 128 IS: 16384\n",
      "SQUARE OF 130 IS: 16900\n",
      "SQUARE OF 132 IS: 17424\n",
      "SQUARE OF 134 IS: 17956\n",
      "SQUARE OF 136 IS: 18496\n",
      "SQUARE OF 138 IS: 19044\n",
      "SQUARE OF 140 IS: 19600\n",
      "SQUARE OF 142 IS: 20164\n",
      "SQUARE OF 144 IS: 20736\n",
      "SQUARE OF 146 IS: 21316\n",
      "SQUARE OF 148 IS: 21904\n",
      "SQUARE OF 150 IS: 22500\n",
      "SQUARE OF 152 IS: 23104\n",
      "SQUARE OF 154 IS: 23716\n",
      "SQUARE OF 156 IS: 24336\n",
      "SQUARE OF 158 IS: 24964\n",
      "SQUARE OF 160 IS: 25600\n",
      "SQUARE OF 162 IS: 26244\n",
      "SQUARE OF 164 IS: 26896\n",
      "SQUARE OF 166 IS: 27556\n",
      "SQUARE OF 168 IS: 28224\n",
      "SQUARE OF 170 IS: 28900\n",
      "SQUARE OF 172 IS: 29584\n",
      "SQUARE OF 174 IS: 30276\n",
      "SQUARE OF 176 IS: 30976\n",
      "SQUARE OF 178 IS: 31684\n",
      "SQUARE OF 180 IS: 32400\n",
      "SQUARE OF 182 IS: 33124\n",
      "SQUARE OF 184 IS: 33856\n",
      "SQUARE OF 186 IS: 34596\n",
      "SQUARE OF 188 IS: 35344\n",
      "SQUARE OF 190 IS: 36100\n",
      "SQUARE OF 192 IS: 36864\n",
      "SQUARE OF 194 IS: 37636\n",
      "SQUARE OF 196 IS: 38416\n",
      "SQUARE OF 198 IS: 39204\n",
      "SQUARE OF 200 IS: 40000\n"
     ]
    }
   ],
   "source": [
    "#FOR EVEN NUMBERS\n",
    "for number in range(100,201):\n",
    "    if number%2==0:\n",
    "        print(f'SQUARE OF {number} IS:',number*number)"
   ]
  },
  {
   "cell_type": "code",
   "execution_count": 39,
   "id": "bf2f3e57-5965-46b3-a39b-49c26037282c",
   "metadata": {},
   "outputs": [
    {
     "name": "stdout",
     "output_type": "stream",
     "text": [
      "SQUARE OF 101 IS: 10201\n",
      "SQUARE OF 103 IS: 10609\n",
      "SQUARE OF 105 IS: 11025\n",
      "SQUARE OF 107 IS: 11449\n",
      "SQUARE OF 109 IS: 11881\n",
      "SQUARE OF 111 IS: 12321\n",
      "SQUARE OF 113 IS: 12769\n",
      "SQUARE OF 115 IS: 13225\n",
      "SQUARE OF 117 IS: 13689\n",
      "SQUARE OF 119 IS: 14161\n",
      "SQUARE OF 121 IS: 14641\n",
      "SQUARE OF 123 IS: 15129\n",
      "SQUARE OF 125 IS: 15625\n",
      "SQUARE OF 127 IS: 16129\n",
      "SQUARE OF 129 IS: 16641\n",
      "SQUARE OF 131 IS: 17161\n",
      "SQUARE OF 133 IS: 17689\n",
      "SQUARE OF 135 IS: 18225\n",
      "SQUARE OF 137 IS: 18769\n",
      "SQUARE OF 139 IS: 19321\n",
      "SQUARE OF 141 IS: 19881\n",
      "SQUARE OF 143 IS: 20449\n",
      "SQUARE OF 145 IS: 21025\n",
      "SQUARE OF 147 IS: 21609\n",
      "SQUARE OF 149 IS: 22201\n",
      "SQUARE OF 151 IS: 22801\n",
      "SQUARE OF 153 IS: 23409\n",
      "SQUARE OF 155 IS: 24025\n",
      "SQUARE OF 157 IS: 24649\n",
      "SQUARE OF 159 IS: 25281\n",
      "SQUARE OF 161 IS: 25921\n",
      "SQUARE OF 163 IS: 26569\n",
      "SQUARE OF 165 IS: 27225\n",
      "SQUARE OF 167 IS: 27889\n",
      "SQUARE OF 169 IS: 28561\n",
      "SQUARE OF 171 IS: 29241\n",
      "SQUARE OF 173 IS: 29929\n",
      "SQUARE OF 175 IS: 30625\n",
      "SQUARE OF 177 IS: 31329\n",
      "SQUARE OF 179 IS: 32041\n",
      "SQUARE OF 181 IS: 32761\n",
      "SQUARE OF 183 IS: 33489\n",
      "SQUARE OF 185 IS: 34225\n",
      "SQUARE OF 187 IS: 34969\n",
      "SQUARE OF 189 IS: 35721\n",
      "SQUARE OF 191 IS: 36481\n",
      "SQUARE OF 193 IS: 37249\n",
      "SQUARE OF 195 IS: 38025\n",
      "SQUARE OF 197 IS: 38809\n",
      "SQUARE OF 199 IS: 39601\n"
     ]
    }
   ],
   "source": [
    "#FOR ODD NUMBERS\n",
    "for number in range(101,200):\n",
    "    if number%2!=0:\n",
    "        print(f'SQUARE OF {number} IS:',number*number)"
   ]
  },
  {
   "cell_type": "markdown",
   "id": "d2531abb-ad73-4e1c-806f-7df2e5e74c60",
   "metadata": {},
   "source": [
    "# Exercise 4: Word counter"
   ]
  },
  {
   "cell_type": "markdown",
   "id": "b96047da-ad97-4b6e-bc54-2cbbda199280",
   "metadata": {},
   "source": [
    "#### write a program to count the number of words in a given text.\r\n",
    "example:\r\n",
    "input_text = \"This is a sample text. This text will be used to demonstrate the word counter.\"\r\n",
    "Expected output:\r\n",
    "'This': 2 \r\n",
    "'is': 1\r\n",
    "'a': 1\r\n",
    "'sample': 1\r\n",
    "'text.': 1\r\n"
   ]
  },
  {
   "cell_type": "code",
   "execution_count": 58,
   "id": "e4e28a41-1daa-457b-892a-0df3f2b409ba",
   "metadata": {},
   "outputs": [
    {
     "name": "stdout",
     "output_type": "stream",
     "text": [
      "{'This': 2, 'is': 1, 'a': 1, 'sample': 1, 'text.': 1, 'text': 1, 'will': 1, 'be': 1, 'used': 1, 'to': 1, 'demonstrate': 1, 'the': 1, 'word': 1, 'counter.': 1}\n"
     ]
    }
   ],
   "source": [
    "def text(input_text):\n",
    "    counts=dict()\n",
    "    words=input_text.split()\n",
    "    for word in words:\n",
    "        if word in counts:\n",
    "            counts[word]+=1\n",
    "        else:\n",
    "            counts[word]=1\n",
    "    return counts\n",
    "print(text(\"This is a sample text. This text will be used to demonstrate the word counter.\"))"
   ]
  },
  {
   "cell_type": "markdown",
   "id": "b1633434-9c63-4d8e-8cfb-8470ac638dd2",
   "metadata": {},
   "source": [
    "# Exercise 5: Check for Palindrome"
   ]
  },
  {
   "cell_type": "markdown",
   "id": "bfd7c77f-4e28-4136-881c-729e2a65d62d",
   "metadata": {},
   "source": [
    "#### Write a Python function called is_palindrome that takes a string as input and returns True if the string is a palindrome, and False otherwise. A palindrome is a word, phrase, number, or other sequence of characters that reads the same forward and backward, ignoring spaces, punctuation, and capitalization.\r\n",
    "Example:\r\n",
    "Input: \"racecar\"\r\n",
    "Expected Output: True\r\n"
   ]
  },
  {
   "cell_type": "code",
   "execution_count": 94,
   "id": "f0e50c4c-81fc-4342-b0f7-42b27ff1faff",
   "metadata": {},
   "outputs": [
    {
     "name": "stdin",
     "output_type": "stream",
     "text": [
      "ENTER A WORD rotator\n"
     ]
    },
    {
     "name": "stdout",
     "output_type": "stream",
     "text": [
      "THIS WORD: rotator IS PALINDROME\n"
     ]
    }
   ],
   "source": [
    "word=input('ENTER A WORD')\n",
    "length=len(word)\n",
    "for i in range(0,length-1):\n",
    "    if word[i]!=word[length-i-1]:\n",
    "        print(f'THIS WORD: {word} IS NOT PALINDROME')\n",
    "    else:\n",
    "        print(f'THIS WORD: {word} IS PALINDROME')\n",
    "    break"
   ]
  },
  {
   "cell_type": "code",
   "execution_count": null,
   "id": "200586c4-e3ce-4a75-bce5-f5868ace1231",
   "metadata": {},
   "outputs": [],
   "source": []
  }
 ],
 "metadata": {
  "kernelspec": {
   "display_name": "Python 3 (ipykernel)",
   "language": "python",
   "name": "python3"
  },
  "language_info": {
   "codemirror_mode": {
    "name": "ipython",
    "version": 3
   },
   "file_extension": ".py",
   "mimetype": "text/x-python",
   "name": "python",
   "nbconvert_exporter": "python",
   "pygments_lexer": "ipython3",
   "version": "3.12.4"
  }
 },
 "nbformat": 4,
 "nbformat_minor": 5
}
